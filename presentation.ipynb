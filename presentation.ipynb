{
 "cells": [
  {
   "cell_type": "markdown",
   "id": "unknown-steam",
   "metadata": {},
   "source": [
    "# Clustering\n",
    "\n",
    "clustering is"
   ]
  },
  {
   "cell_type": "markdown",
   "id": "compatible-evans",
   "metadata": {},
   "source": [
    "# clustering methods"
   ]
  },
  {
   "cell_type": "markdown",
   "id": "aerial-spirit",
   "metadata": {},
   "source": [
    "## Hierarchical Methods"
   ]
  },
  {
   "cell_type": "markdown",
   "id": "british-response",
   "metadata": {},
   "source": [
    "## Optimization Methods"
   ]
  },
  {
   "cell_type": "markdown",
   "id": "thorough-beijing",
   "metadata": {},
   "source": [
    "# "
   ]
  },
  {
   "cell_type": "markdown",
   "id": "still-muslim",
   "metadata": {},
   "source": [
    "## Testing"
   ]
  },
  {
   "cell_type": "markdown",
   "id": "permanent-force",
   "metadata": {},
   "source": [
    "### Accuracy"
   ]
  },
  {
   "cell_type": "markdown",
   "id": "governing-lender",
   "metadata": {},
   "source": [
    "### Performance"
   ]
  },
  {
   "cell_type": "markdown",
   "id": "spoken-organ",
   "metadata": {},
   "source": [
    "## Comparison between different methods"
   ]
  },
  {
   "cell_type": "markdown",
   "id": "round-combination",
   "metadata": {},
   "source": [
    "# Summary"
   ]
  },
  {
   "cell_type": "code",
   "execution_count": null,
   "id": "legal-samoa",
   "metadata": {},
   "outputs": [],
   "source": []
  }
 ],
 "metadata": {
  "kernelspec": {
   "display_name": "Python 3",
   "language": "python",
   "name": "python3"
  },
  "language_info": {
   "codemirror_mode": {
    "name": "ipython",
    "version": 3
   },
   "file_extension": ".py",
   "mimetype": "text/x-python",
   "name": "python",
   "nbconvert_exporter": "python",
   "pygments_lexer": "ipython3",
   "version": "3.8.3"
  },
  "toc-autonumbering": true
 },
 "nbformat": 4,
 "nbformat_minor": 5
}
